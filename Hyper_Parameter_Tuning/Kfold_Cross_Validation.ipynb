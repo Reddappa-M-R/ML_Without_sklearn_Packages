{
 "cells": [
  {
   "cell_type": "code",
   "execution_count": 1,
   "id": "e8969de1",
   "metadata": {},
   "outputs": [],
   "source": [
    "import numpy as np\n",
    "\n",
    "def lasso_regression(X_train, y_train, alpha):\n",
    "    n_samples, n_features = X_train.shape\n",
    "    w = np.zeros(n_features)\n",
    "    b = 0\n",
    "\n",
    "    learning_rate = 0.01\n",
    "    iterations = 1000\n",
    "\n",
    "    for i in range(iterations):\n",
    "        y_pred = np.dot(X_train, w) + b\n",
    "        mse = np.mean((y_pred - y_train) ** 2)\n",
    "        dw = (1 / n_samples) * np.dot(X_train.T, (y_pred - y_train))\n",
    "        db = (1 / n_samples) * np.sum(y_pred - y_train)\n",
    "\n",
    "        w = w - learning_rate * (dw + alpha * np.sign(w))\n",
    "        b = b - learning_rate * db\n",
    "\n",
    "    return w, b\n",
    "\n",
    "def k_fold_cross_validation(X, y, k, alpha_values):\n",
    "    fold_size = len(X) // k\n",
    "    results = {}\n",
    "\n",
    "    for alpha in alpha_values:\n",
    "        mse_sum = 0\n",
    "        for i in range(k):\n",
    "            val_start = i * fold_size\n",
    "            val_end = (i + 1) * fold_size\n",
    "\n",
    "            X_val = X[val_start:val_end]\n",
    "            y_val = y[val_start:val_end]\n",
    "\n",
    "            X_train = np.concatenate([X[:val_start], X[val_end:]])\n",
    "            y_train = np.concatenate([y[:val_start], y[val_end:]])\n",
    "\n",
    "            w, b = lasso_regression(X_train, y_train, alpha)\n",
    "            y_pred = np.dot(X_val, w) + b\n",
    "            mse_sum += np.mean((y_pred - y_val) ** 2)\n",
    "\n",
    "        results[alpha] = mse_sum / k\n",
    "\n",
    "    return results\n",
    "\n",
    "def hyperparameter_tuning(X, y, k, alpha_values):\n",
    "    results = k_fold_cross_validation(X, y, k, alpha_values)\n",
    "    best_alpha = min(results, key=results.get)\n",
    "    return best_alpha\n"
   ]
  },
  {
   "cell_type": "code",
   "execution_count": 2,
   "id": "76e9eabb",
   "metadata": {},
   "outputs": [
    {
     "name": "stdout",
     "output_type": "stream",
     "text": [
      "Best alpha: 0.1\n"
     ]
    }
   ],
   "source": [
    "X = np.array([[1, 2], [2, 4], [3, 6], [4, 8]])\n",
    "y = np.array([1, 2, 3, 4])\n",
    "k = 3\n",
    "alpha_values = [0.1, 1, 10]\n",
    "\n",
    "best_alpha = hyperparameter_tuning(X, y, k, alpha_values)\n",
    "print(\"Best alpha:\", best_alpha)"
   ]
  },
  {
   "cell_type": "code",
   "execution_count": null,
   "id": "a7a30dbf",
   "metadata": {},
   "outputs": [],
   "source": []
  }
 ],
 "metadata": {
  "kernelspec": {
   "display_name": "Python 3 (ipykernel)",
   "language": "python",
   "name": "python3"
  },
  "language_info": {
   "codemirror_mode": {
    "name": "ipython",
    "version": 3
   },
   "file_extension": ".py",
   "mimetype": "text/x-python",
   "name": "python",
   "nbconvert_exporter": "python",
   "pygments_lexer": "ipython3",
   "version": "3.9.7"
  }
 },
 "nbformat": 4,
 "nbformat_minor": 5
}
