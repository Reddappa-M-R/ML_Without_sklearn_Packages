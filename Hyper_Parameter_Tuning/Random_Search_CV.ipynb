{
 "cells": [
  {
   "cell_type": "code",
   "execution_count": 1,
   "id": "39abdb93",
   "metadata": {},
   "outputs": [],
   "source": [
    "import numpy as np\n",
    "import random\n",
    "\n",
    "def lasso_regression(X_train, y_train, alpha):\n",
    "    n_samples, n_features = X_train.shape\n",
    "    w = np.zeros(n_features)\n",
    "    b = 0\n",
    "\n",
    "    learning_rate = 0.01\n",
    "    iterations = 1000\n",
    "\n",
    "    for i in range(iterations):\n",
    "        y_pred = np.dot(X_train, w) + b\n",
    "        mse = np.mean((y_pred - y_train) ** 2)\n",
    "        dw = (1 / n_samples) * np.dot(X_train.T, (y_pred - y_train))\n",
    "        db = (1 / n_samples) * np.sum(y_pred - y_train)\n",
    "\n",
    "        w = w - learning_rate * (dw + alpha * np.sign(w))\n",
    "        b = b - learning_rate * db\n",
    "\n",
    "    return w, b\n",
    "\n",
    "def random_search(X, y, alpha_values, n_iter):\n",
    "    results = {}\n",
    "\n",
    "    for i in range(n_iter):\n",
    "        alpha = random.choice(alpha_values)\n",
    "\n",
    "        w, b = lasso_regression(X, y, alpha)\n",
    "        y_pred = np.dot(X, w) + b\n",
    "        mse = np.mean((y_pred - y) ** 2)\n",
    "\n",
    "        results[alpha] = mse\n",
    "\n",
    "    return results\n",
    "\n",
    "def hyperparameter_tuning(X, y, alpha_values, n_iter):\n",
    "    results = random_search(X, y, alpha_values, n_iter)\n",
    "    best_alpha = min(results, key=results.get)\n",
    "    return best_alpha\n"
   ]
  },
  {
   "cell_type": "code",
   "execution_count": 2,
   "id": "0a00a8c9",
   "metadata": {},
   "outputs": [
    {
     "name": "stdout",
     "output_type": "stream",
     "text": [
      "Best alpha: 0.1\n"
     ]
    }
   ],
   "source": [
    "X = np.array([[1, 2], [2, 4], [3, 6], [4, 8]])\n",
    "y = np.array([1, 2, 3, 4])\n",
    "alpha_values = [0.1, 1, 10]\n",
    "n_iter = 5\n",
    "\n",
    "best_alpha = hyperparameter_tuning(X, y, alpha_values, n_iter)\n",
    "print(\"Best alpha:\", best_alpha)"
   ]
  },
  {
   "cell_type": "code",
   "execution_count": null,
   "id": "3ae2642c",
   "metadata": {},
   "outputs": [],
   "source": []
  }
 ],
 "metadata": {
  "kernelspec": {
   "display_name": "Python 3 (ipykernel)",
   "language": "python",
   "name": "python3"
  },
  "language_info": {
   "codemirror_mode": {
    "name": "ipython",
    "version": 3
   },
   "file_extension": ".py",
   "mimetype": "text/x-python",
   "name": "python",
   "nbconvert_exporter": "python",
   "pygments_lexer": "ipython3",
   "version": "3.9.7"
  }
 },
 "nbformat": 4,
 "nbformat_minor": 5
}
