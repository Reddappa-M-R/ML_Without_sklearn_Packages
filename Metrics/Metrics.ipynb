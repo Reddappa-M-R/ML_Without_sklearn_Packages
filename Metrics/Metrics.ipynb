{
 "cells": [
  {
   "cell_type": "markdown",
   "id": "7728b603",
   "metadata": {},
   "source": [
    "# Metrics for regression"
   ]
  },
  {
   "cell_type": "markdown",
   "id": "5975b09a",
   "metadata": {},
   "source": [
    "## Mean Squared Error"
   ]
  },
  {
   "cell_type": "code",
   "execution_count": 1,
   "id": "694e94a4",
   "metadata": {},
   "outputs": [],
   "source": [
    "import numpy as np\n",
    "\n",
    "def mean_squared_error(y_true, y_pred):\n",
    "    mse = np.mean((y_true - y_pred) ** 2)\n",
    "    return mse"
   ]
  },
  {
   "cell_type": "code",
   "execution_count": 2,
   "id": "4336587a",
   "metadata": {},
   "outputs": [
    {
     "name": "stdout",
     "output_type": "stream",
     "text": [
      "Mean squared error: 0.030000000000000054\n"
     ]
    }
   ],
   "source": [
    "y_true = np.array([1, 2, 3])\n",
    "y_pred = np.array([1.1, 2.2, 2.8])\n",
    "mse = mean_squared_error(y_true, y_pred)\n",
    "print(\"Mean squared error:\", mse)\n"
   ]
  },
  {
   "cell_type": "markdown",
   "id": "f6e9b8f0",
   "metadata": {},
   "source": [
    "## R2_Sscore"
   ]
  },
  {
   "cell_type": "code",
   "execution_count": 3,
   "id": "2a157668",
   "metadata": {},
   "outputs": [],
   "source": [
    "import numpy as np\n",
    "\n",
    "def r2_score(y_true, y_pred):\n",
    "    sse = np.sum((y_true - y_pred) ** 2)\n",
    "    sst = np.sum((y_true - np.mean(y_true)) ** 2)\n",
    "    r2 = 1 - sse / sst\n",
    "    return r2\n"
   ]
  },
  {
   "cell_type": "code",
   "execution_count": 4,
   "id": "72a09602",
   "metadata": {},
   "outputs": [
    {
     "name": "stdout",
     "output_type": "stream",
     "text": [
      "R-squared: 0.955\n"
     ]
    }
   ],
   "source": [
    "y_true = np.array([1, 2, 3])\n",
    "y_pred = np.array([1.1, 2.2, 2.8])\n",
    "r2 = r2_score(y_true, y_pred)\n",
    "print(\"R-squared:\", r2)\n"
   ]
  },
  {
   "cell_type": "markdown",
   "id": "59e2009c",
   "metadata": {},
   "source": [
    "## Adjusted R2_Score"
   ]
  },
  {
   "cell_type": "code",
   "execution_count": 5,
   "id": "312e6b94",
   "metadata": {},
   "outputs": [],
   "source": [
    "import numpy as np\n",
    "\n",
    "def adjusted_r2_score(y_true, y_pred, n_features):\n",
    "    sse = np.sum((y_true - y_pred) ** 2)\n",
    "    sst = np.sum((y_true - np.mean(y_true)) ** 2)\n",
    "    r2 = 1 - sse / sst\n",
    "    adj_r2 = 1 - ((1 - r2) * (len(y_true) - 1)) / (len(y_true) - n_features - 1)\n",
    "    return adj_r2\n"
   ]
  },
  {
   "cell_type": "code",
   "execution_count": 6,
   "id": "968dd82f",
   "metadata": {},
   "outputs": [
    {
     "name": "stdout",
     "output_type": "stream",
     "text": [
      "Adjusted R-squared: 0.9099999999999999\n"
     ]
    }
   ],
   "source": [
    "y_true = np.array([1, 2, 3])\n",
    "y_pred = np.array([1.1, 2.2, 2.8])\n",
    "n_features = 1\n",
    "adj_r2 = adjusted_r2_score(y_true, y_pred, n_features)\n",
    "print(\"Adjusted R-squared:\", adj_r2)\n"
   ]
  },
  {
   "cell_type": "markdown",
   "id": "8e55da35",
   "metadata": {},
   "source": [
    "## Mean Absolute Error"
   ]
  },
  {
   "cell_type": "code",
   "execution_count": 7,
   "id": "633b7785",
   "metadata": {},
   "outputs": [],
   "source": [
    "import numpy as np\n",
    "\n",
    "def mean_absolute_error(y_true, y_pred):\n",
    "    mae = np.mean(np.abs(y_true - y_pred))\n",
    "    return mae\n"
   ]
  },
  {
   "cell_type": "code",
   "execution_count": 8,
   "id": "003d175b",
   "metadata": {},
   "outputs": [
    {
     "name": "stdout",
     "output_type": "stream",
     "text": [
      "Mean absolute error: 0.16666666666666682\n"
     ]
    }
   ],
   "source": [
    "y_true = np.array([1, 2, 3])\n",
    "y_pred = np.array([1.1, 2.2, 2.8])\n",
    "mae = mean_absolute_error(y_true, y_pred)\n",
    "print(\"Mean absolute error:\", mae)\n"
   ]
  },
  {
   "cell_type": "markdown",
   "id": "caee33ee",
   "metadata": {},
   "source": [
    "## Root Mean Squared Error"
   ]
  },
  {
   "cell_type": "code",
   "execution_count": 9,
   "id": "47820e58",
   "metadata": {},
   "outputs": [],
   "source": [
    "import numpy as np\n",
    "\n",
    "def root_mean_squared_error(y_true, y_pred):\n",
    "    mse = np.mean((y_true - y_pred) ** 2)\n",
    "    rmse = np.sqrt(mse)\n",
    "    return rmse\n"
   ]
  },
  {
   "cell_type": "code",
   "execution_count": 10,
   "id": "0c0ef332",
   "metadata": {},
   "outputs": [
    {
     "name": "stdout",
     "output_type": "stream",
     "text": [
      "Root mean squared error: 0.1732050807568879\n"
     ]
    }
   ],
   "source": [
    "y_true = np.array([1, 2, 3])\n",
    "y_pred = np.array([1.1, 2.2, 2.8])\n",
    "rmse = root_mean_squared_error(y_true, y_pred)\n",
    "print(\"Root mean squared error:\", rmse)\n"
   ]
  },
  {
   "cell_type": "code",
   "execution_count": null,
   "id": "71e5b45f",
   "metadata": {},
   "outputs": [],
   "source": []
  }
 ],
 "metadata": {
  "kernelspec": {
   "display_name": "Python 3 (ipykernel)",
   "language": "python",
   "name": "python3"
  },
  "language_info": {
   "codemirror_mode": {
    "name": "ipython",
    "version": 3
   },
   "file_extension": ".py",
   "mimetype": "text/x-python",
   "name": "python",
   "nbconvert_exporter": "python",
   "pygments_lexer": "ipython3",
   "version": "3.9.7"
  }
 },
 "nbformat": 4,
 "nbformat_minor": 5
}
