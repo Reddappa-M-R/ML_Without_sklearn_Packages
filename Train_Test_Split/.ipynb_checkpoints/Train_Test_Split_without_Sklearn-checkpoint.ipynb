{
 "cells": [
  {
   "cell_type": "code",
   "execution_count": 1,
   "id": "634dd576",
   "metadata": {},
   "outputs": [],
   "source": [
    "import random\n",
    "\n",
    "def train_test_split(data, test_size=0.2):\n",
    "    \n",
    "    # Calculate the number of items to be used for testing.\n",
    "    num_test = int(len(data) * test_size)\n",
    "\n",
    "    # Shuffle the data.\n",
    "    random.seed(42)\n",
    "    random.shuffle(data)\n",
    "\n",
    "    # Split the data into training and testing sets.\n",
    "    train_data = data[:-num_test]\n",
    "    test_data = data[-num_test:]\n",
    "\n",
    "    return train_data, test_data\n"
   ]
  },
  {
   "cell_type": "code",
   "execution_count": 2,
   "id": "225b8356",
   "metadata": {},
   "outputs": [
    {
     "name": "stdout",
     "output_type": "stream",
     "text": [
      "80\n",
      "20\n"
     ]
    }
   ],
   "source": [
    "# Create some data.\n",
    "data = [i for i in range(100)]\n",
    "\n",
    "# Split the data into training and testing sets.\n",
    "train_data, test_data = train_test_split(data, test_size=0.2)\n",
    "\n",
    "# Print the lengths of the training and testing sets.\n",
    "print(len(train_data)) # Output: 80\n",
    "print(len(test_data)) # Output: 20"
   ]
  },
  {
   "cell_type": "code",
   "execution_count": 3,
   "id": "3e02957f",
   "metadata": {},
   "outputs": [
    {
     "name": "stdout",
     "output_type": "stream",
     "text": [
      "[3, 2, 1, 5, 7, 8, 9, 10, 6, 4]\n"
     ]
    }
   ],
   "source": [
    "import random\n",
    "\n",
    "data = [1, 2, 3, 4, 5, 6, 7, 8, 9, 10]\n",
    "random.shuffle(data)\n",
    "\n",
    "print(data) "
   ]
  },
  {
   "cell_type": "code",
   "execution_count": 4,
   "id": "7ca29713",
   "metadata": {},
   "outputs": [
    {
     "name": "stdout",
     "output_type": "stream",
     "text": [
      "[8, 4, 3, 9, 6, 7, 10, 5, 1, 2]\n"
     ]
    }
   ],
   "source": [
    "import random\n",
    "\n",
    "data = [1, 2, 3, 4, 5, 6, 7, 8, 9, 10]\n",
    "random.seed(42)\n",
    "random.shuffle(data)\n",
    "\n",
    "print(data) "
   ]
  },
  {
   "cell_type": "code",
   "execution_count": 5,
   "id": "a64abf78",
   "metadata": {},
   "outputs": [],
   "source": [
    "import random\n",
    "\n",
    "def train_test_split(X, y, test_size=0.2, random_state = 42):\n",
    "    \n",
    "    # Calculate the number of items to be used for testing.\n",
    "    num_test = int(len(X) * test_size)\n",
    "\n",
    "    # Shuffle the X.\n",
    "    random.seed(random_state)\n",
    "    random.shuffle(X)\n",
    "    random.shuffle(y)\n",
    "\n",
    "    # Split the X into training and testing sets.\n",
    "    X_train = X[:-num_test]\n",
    "    X_test = X[-num_test:]\n",
    "\n",
    "\n",
    "    # Split the X into training and testing sets.\n",
    "    y_train = y[:-num_test]\n",
    "    y_test = y[-num_test:]\n",
    "\n",
    "    return X_train, X_test, y_train, y_test\n"
   ]
  },
  {
   "cell_type": "code",
   "execution_count": 6,
   "id": "b049b0a6",
   "metadata": {},
   "outputs": [
    {
     "name": "stdout",
     "output_type": "stream",
     "text": [
      "4\n",
      "1\n",
      "4\n",
      "1\n"
     ]
    }
   ],
   "source": [
    "# Create some data.\n",
    "data = [i for i in range(100)]\n",
    "\n",
    "X = [[1],[2],[3],[4],[5]]\n",
    "y = [1,2,3,4,5]\n",
    "\n",
    "\n",
    "# Split the data into training and testing sets.\n",
    "X_train, X_test, y_train, y_test = train_test_split(X, y, test_size=0.2, random_state = 42)\n",
    "\n",
    "# Print the lengths of the training and testing sets.\n",
    "print(len(X_train)) # Output: 80\n",
    "print(len(X_test)) # Output: 20\n",
    "print(len(y_train)) # Output: 80\n",
    "print(len(y_test)) # Output: 20"
   ]
  },
  {
   "cell_type": "code",
   "execution_count": 7,
   "id": "3cbfe5d3",
   "metadata": {},
   "outputs": [
    {
     "data": {
      "text/plain": [
       "[[4], [2], [3], [5]]"
      ]
     },
     "execution_count": 7,
     "metadata": {},
     "output_type": "execute_result"
    }
   ],
   "source": [
    "X_train"
   ]
  },
  {
   "cell_type": "code",
   "execution_count": 8,
   "id": "526c666c",
   "metadata": {},
   "outputs": [
    {
     "data": {
      "text/plain": [
       "[[1]]"
      ]
     },
     "execution_count": 8,
     "metadata": {},
     "output_type": "execute_result"
    }
   ],
   "source": [
    "X_test"
   ]
  },
  {
   "cell_type": "code",
   "execution_count": 9,
   "id": "fa9c4146",
   "metadata": {},
   "outputs": [
    {
     "data": {
      "text/plain": [
       "[4, 3, 1, 5]"
      ]
     },
     "execution_count": 9,
     "metadata": {},
     "output_type": "execute_result"
    }
   ],
   "source": [
    "y_train"
   ]
  },
  {
   "cell_type": "code",
   "execution_count": 10,
   "id": "2063ebf1",
   "metadata": {},
   "outputs": [
    {
     "data": {
      "text/plain": [
       "[2]"
      ]
     },
     "execution_count": 10,
     "metadata": {},
     "output_type": "execute_result"
    }
   ],
   "source": [
    "y_test"
   ]
  },
  {
   "cell_type": "markdown",
   "id": "7453d1c1",
   "metadata": {},
   "source": [
    "## Train_test_split_worst"
   ]
  },
  {
   "cell_type": "code",
   "execution_count": 16,
   "id": "a7b543af",
   "metadata": {},
   "outputs": [],
   "source": [
    "import pandas as pd\n",
    "import numpy as np\n",
    "\n",
    "# Generate some random data\n",
    "data = pd.DataFrame(np.random.randn(100, 4), columns=list('ABCD'))\n",
    "\n",
    "# Set the random seed for reproducibility\n",
    "np.random.seed(42)\n",
    "\n",
    "# Generate a random index for the data\n",
    "indices = np.random.permutation(data.index)\n",
    "\n",
    "# Split the data into training and testing sets\n",
    "split = 0.7\n",
    "train_data = data.loc[indices[:int(split*len(data))]]\n",
    "test_data = data.loc[indices[int(split*len(data)):]]\n"
   ]
  },
  {
   "cell_type": "code",
   "execution_count": 17,
   "id": "4d9e3449",
   "metadata": {},
   "outputs": [
    {
     "data": {
      "text/html": [
       "<div>\n",
       "<style scoped>\n",
       "    .dataframe tbody tr th:only-of-type {\n",
       "        vertical-align: middle;\n",
       "    }\n",
       "\n",
       "    .dataframe tbody tr th {\n",
       "        vertical-align: top;\n",
       "    }\n",
       "\n",
       "    .dataframe thead th {\n",
       "        text-align: right;\n",
       "    }\n",
       "</style>\n",
       "<table border=\"1\" class=\"dataframe\">\n",
       "  <thead>\n",
       "    <tr style=\"text-align: right;\">\n",
       "      <th></th>\n",
       "      <th>A</th>\n",
       "      <th>B</th>\n",
       "      <th>C</th>\n",
       "      <th>D</th>\n",
       "    </tr>\n",
       "  </thead>\n",
       "  <tbody>\n",
       "    <tr>\n",
       "      <th>83</th>\n",
       "      <td>-0.875562</td>\n",
       "      <td>-0.234848</td>\n",
       "      <td>-0.987229</td>\n",
       "      <td>-0.491164</td>\n",
       "    </tr>\n",
       "    <tr>\n",
       "      <th>53</th>\n",
       "      <td>0.699092</td>\n",
       "      <td>0.599897</td>\n",
       "      <td>-0.481248</td>\n",
       "      <td>-2.093794</td>\n",
       "    </tr>\n",
       "    <tr>\n",
       "      <th>70</th>\n",
       "      <td>-1.440653</td>\n",
       "      <td>0.269318</td>\n",
       "      <td>1.813667</td>\n",
       "      <td>0.404583</td>\n",
       "    </tr>\n",
       "    <tr>\n",
       "      <th>45</th>\n",
       "      <td>-1.991538</td>\n",
       "      <td>0.426026</td>\n",
       "      <td>-0.541285</td>\n",
       "      <td>0.776823</td>\n",
       "    </tr>\n",
       "    <tr>\n",
       "      <th>44</th>\n",
       "      <td>-0.913413</td>\n",
       "      <td>-0.455033</td>\n",
       "      <td>-0.412762</td>\n",
       "      <td>0.595644</td>\n",
       "    </tr>\n",
       "    <tr>\n",
       "      <th>...</th>\n",
       "      <td>...</td>\n",
       "      <td>...</td>\n",
       "      <td>...</td>\n",
       "      <td>...</td>\n",
       "    </tr>\n",
       "    <tr>\n",
       "      <th>67</th>\n",
       "      <td>-0.325973</td>\n",
       "      <td>3.253985</td>\n",
       "      <td>-1.544999</td>\n",
       "      <td>-0.842735</td>\n",
       "    </tr>\n",
       "    <tr>\n",
       "      <th>46</th>\n",
       "      <td>-0.047644</td>\n",
       "      <td>0.518694</td>\n",
       "      <td>-0.391402</td>\n",
       "      <td>0.438023</td>\n",
       "    </tr>\n",
       "    <tr>\n",
       "      <th>68</th>\n",
       "      <td>0.392042</td>\n",
       "      <td>-0.124525</td>\n",
       "      <td>-0.200205</td>\n",
       "      <td>2.024721</td>\n",
       "    </tr>\n",
       "    <tr>\n",
       "      <th>61</th>\n",
       "      <td>-1.238231</td>\n",
       "      <td>-0.824651</td>\n",
       "      <td>1.951280</td>\n",
       "      <td>-0.040085</td>\n",
       "    </tr>\n",
       "    <tr>\n",
       "      <th>97</th>\n",
       "      <td>0.233466</td>\n",
       "      <td>0.802652</td>\n",
       "      <td>0.054071</td>\n",
       "      <td>0.240351</td>\n",
       "    </tr>\n",
       "  </tbody>\n",
       "</table>\n",
       "<p>70 rows × 4 columns</p>\n",
       "</div>"
      ],
      "text/plain": [
       "           A         B         C         D\n",
       "83 -0.875562 -0.234848 -0.987229 -0.491164\n",
       "53  0.699092  0.599897 -0.481248 -2.093794\n",
       "70 -1.440653  0.269318  1.813667  0.404583\n",
       "45 -1.991538  0.426026 -0.541285  0.776823\n",
       "44 -0.913413 -0.455033 -0.412762  0.595644\n",
       "..       ...       ...       ...       ...\n",
       "67 -0.325973  3.253985 -1.544999 -0.842735\n",
       "46 -0.047644  0.518694 -0.391402  0.438023\n",
       "68  0.392042 -0.124525 -0.200205  2.024721\n",
       "61 -1.238231 -0.824651  1.951280 -0.040085\n",
       "97  0.233466  0.802652  0.054071  0.240351\n",
       "\n",
       "[70 rows x 4 columns]"
      ]
     },
     "execution_count": 17,
     "metadata": {},
     "output_type": "execute_result"
    }
   ],
   "source": [
    "train_data"
   ]
  },
  {
   "cell_type": "code",
   "execution_count": null,
   "id": "998be38d",
   "metadata": {},
   "outputs": [],
   "source": []
  }
 ],
 "metadata": {
  "kernelspec": {
   "display_name": "Python 3 (ipykernel)",
   "language": "python",
   "name": "python3"
  },
  "language_info": {
   "codemirror_mode": {
    "name": "ipython",
    "version": 3
   },
   "file_extension": ".py",
   "mimetype": "text/x-python",
   "name": "python",
   "nbconvert_exporter": "python",
   "pygments_lexer": "ipython3",
   "version": "3.9.7"
  },
  "vscode": {
   "interpreter": {
    "hash": "643a47424beb36352ffe22be6206234b6bc868893f6b52b5682a155db092888b"
   }
  }
 },
 "nbformat": 4,
 "nbformat_minor": 5
}
